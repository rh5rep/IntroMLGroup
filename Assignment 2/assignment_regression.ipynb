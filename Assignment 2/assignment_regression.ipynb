{
 "cells": [
  {
   "cell_type": "markdown",
   "metadata": {},
   "source": [
    "# Assignment 2 Supervised learning: Classification and regression"
   ]
  },
  {
   "cell_type": "markdown",
   "metadata": {},
   "source": [
    "### Part A - Linear Regression"
   ]
  },
  {
   "cell_type": "markdown",
   "metadata": {},
   "source": [
    "##### Step 1: Data Preparation\n",
    "Feature transformations?\n",
    "Load data + apply regularization (mean 0 and standard deviation 1)"
   ]
  },
  {
   "cell_type": "code",
   "execution_count": 1,
   "metadata": {},
   "outputs": [],
   "source": [
    "import numpy as np\n",
    "import pandas as pd\n",
    "from sklearn.decomposition import PCA\n",
    "from sklearn.preprocessing import StandardScaler\n",
    "import plotly.graph_objects as go\n",
    "import plotly.express as px\n",
    "from plotly.subplots import make_subplots\n",
    "\n",
    "from ucimlrepo import fetch_ucirepo \n",
    "\n",
    "import plotly.io as pio\n",
    "\n",
    "pio.renderers.default = \"notebook\"  # oder \"none\" für keine automatische Ausgabe"
   ]
  },
  {
   "cell_type": "code",
   "execution_count": 9,
   "metadata": {},
   "outputs": [],
   "source": [
    "# Load data \n",
    "\n",
    "# fetch dataset \n",
    "gas_turbine_co_and_nox_emission_data_set = fetch_ucirepo(id=551) \n",
    "  \n",
    "# data (as pandas dataframes) \n",
    "X = gas_turbine_co_and_nox_emission_data_set.data.features "
   ]
  },
  {
   "cell_type": "code",
   "execution_count": 10,
   "metadata": {},
   "outputs": [
    {
     "name": "stdout",
     "output_type": "stream",
     "text": [
      "X.shape: (36733, 9)\n",
      "y.shape: (36733, 1)\n"
     ]
    }
   ],
   "source": [
    "y = X[X.columns[-1:]]                           # only NOx\n",
    "\n",
    "X.drop(columns=X.columns[-2:], inplace=True)    #drop NOx and CO\n",
    "X.drop(columns=\"year\", inplace=True)            #drop year\n",
    "\n",
    "print(\"X.shape: {}\".format(X.shape))\n",
    "print(\"y.shape: {}\".format(y.shape))"
   ]
  },
  {
   "cell_type": "code",
   "execution_count": 12,
   "metadata": {},
   "outputs": [
    {
     "data": {
      "text/html": [
       "<div>\n",
       "<style scoped>\n",
       "    .dataframe tbody tr th:only-of-type {\n",
       "        vertical-align: middle;\n",
       "    }\n",
       "\n",
       "    .dataframe tbody tr th {\n",
       "        vertical-align: top;\n",
       "    }\n",
       "\n",
       "    .dataframe thead th {\n",
       "        text-align: right;\n",
       "    }\n",
       "</style>\n",
       "<table border=\"1\" class=\"dataframe\">\n",
       "  <thead>\n",
       "    <tr style=\"text-align: right;\">\n",
       "      <th></th>\n",
       "      <th>AT</th>\n",
       "      <th>AP</th>\n",
       "      <th>AH</th>\n",
       "      <th>AFDP</th>\n",
       "      <th>GTEP</th>\n",
       "      <th>TIT</th>\n",
       "      <th>TAT</th>\n",
       "      <th>TEY</th>\n",
       "      <th>CDP</th>\n",
       "    </tr>\n",
       "  </thead>\n",
       "  <tbody>\n",
       "    <tr>\n",
       "      <th>0</th>\n",
       "      <td>-1.762362</td>\n",
       "      <td>0.871052</td>\n",
       "      <td>0.401627</td>\n",
       "      <td>-0.451875</td>\n",
       "      <td>-0.377702</td>\n",
       "      <td>0.272119</td>\n",
       "      <td>0.536589</td>\n",
       "      <td>0.074502</td>\n",
       "      <td>-0.149273</td>\n",
       "    </tr>\n",
       "    <tr>\n",
       "      <th>1</th>\n",
       "      <td>-1.801920</td>\n",
       "      <td>0.809164</td>\n",
       "      <td>0.440351</td>\n",
       "      <td>-0.458207</td>\n",
       "      <td>-0.384376</td>\n",
       "      <td>0.266417</td>\n",
       "      <td>0.568742</td>\n",
       "      <td>0.074502</td>\n",
       "      <td>-0.154783</td>\n",
       "    </tr>\n",
       "    <tr>\n",
       "      <th>2</th>\n",
       "      <td>-1.854113</td>\n",
       "      <td>0.824636</td>\n",
       "      <td>0.483432</td>\n",
       "      <td>-0.442831</td>\n",
       "      <td>-0.375081</td>\n",
       "      <td>0.289227</td>\n",
       "      <td>0.589203</td>\n",
       "      <td>0.102033</td>\n",
       "      <td>-0.017015</td>\n",
       "    </tr>\n",
       "    <tr>\n",
       "      <th>3</th>\n",
       "      <td>-1.875718</td>\n",
       "      <td>0.809164</td>\n",
       "      <td>0.523263</td>\n",
       "      <td>-0.445415</td>\n",
       "      <td>-0.393909</td>\n",
       "      <td>0.289227</td>\n",
       "      <td>0.586280</td>\n",
       "      <td>0.097551</td>\n",
       "      <td>-0.064774</td>\n",
       "    </tr>\n",
       "    <tr>\n",
       "      <th>4</th>\n",
       "      <td>-1.874644</td>\n",
       "      <td>0.731804</td>\n",
       "      <td>0.505837</td>\n",
       "      <td>-0.448904</td>\n",
       "      <td>-0.392479</td>\n",
       "      <td>0.255012</td>\n",
       "      <td>0.561434</td>\n",
       "      <td>0.074502</td>\n",
       "      <td>-0.138251</td>\n",
       "    </tr>\n",
       "    <tr>\n",
       "      <th>...</th>\n",
       "      <td>...</td>\n",
       "      <td>...</td>\n",
       "      <td>...</td>\n",
       "      <td>...</td>\n",
       "      <td>...</td>\n",
       "      <td>...</td>\n",
       "      <td>...</td>\n",
       "      <td>...</td>\n",
       "      <td>...</td>\n",
       "    </tr>\n",
       "    <tr>\n",
       "      <th>36728</th>\n",
       "      <td>-1.891401</td>\n",
       "      <td>2.387315</td>\n",
       "      <td>1.060287</td>\n",
       "      <td>-0.981255</td>\n",
       "      <td>-1.543602</td>\n",
       "      <td>-2.533516</td>\n",
       "      <td>-0.667691</td>\n",
       "      <td>-1.563948</td>\n",
       "      <td>-1.515021</td>\n",
       "    </tr>\n",
       "    <tr>\n",
       "      <th>36729</th>\n",
       "      <td>-1.818812</td>\n",
       "      <td>2.402787</td>\n",
       "      <td>1.118097</td>\n",
       "      <td>-0.947401</td>\n",
       "      <td>-1.560524</td>\n",
       "      <td>-2.499301</td>\n",
       "      <td>-0.566847</td>\n",
       "      <td>-1.582516</td>\n",
       "      <td>-1.576558</td>\n",
       "    </tr>\n",
       "    <tr>\n",
       "      <th>36730</th>\n",
       "      <td>-1.642292</td>\n",
       "      <td>2.387315</td>\n",
       "      <td>1.199903</td>\n",
       "      <td>-0.791702</td>\n",
       "      <td>-1.598418</td>\n",
       "      <td>-2.476491</td>\n",
       "      <td>-0.391466</td>\n",
       "      <td>-1.645262</td>\n",
       "      <td>-1.468179</td>\n",
       "    </tr>\n",
       "    <tr>\n",
       "      <th>36731</th>\n",
       "      <td>-1.588354</td>\n",
       "      <td>2.418260</td>\n",
       "      <td>1.129438</td>\n",
       "      <td>0.074403</td>\n",
       "      <td>-0.476847</td>\n",
       "      <td>-0.258214</td>\n",
       "      <td>0.577511</td>\n",
       "      <td>-0.134226</td>\n",
       "      <td>-0.265917</td>\n",
       "    </tr>\n",
       "    <tr>\n",
       "      <th>36732</th>\n",
       "      <td>-1.567474</td>\n",
       "      <td>2.433732</td>\n",
       "      <td>1.153434</td>\n",
       "      <td>-0.065016</td>\n",
       "      <td>-0.724469</td>\n",
       "      <td>-0.771440</td>\n",
       "      <td>0.302748</td>\n",
       "      <td>-0.518388</td>\n",
       "      <td>-0.549721</td>\n",
       "    </tr>\n",
       "  </tbody>\n",
       "</table>\n",
       "<p>36733 rows × 9 columns</p>\n",
       "</div>"
      ],
      "text/plain": [
       "             AT        AP        AH      AFDP      GTEP       TIT       TAT  \\\n",
       "0     -1.762362  0.871052  0.401627 -0.451875 -0.377702  0.272119  0.536589   \n",
       "1     -1.801920  0.809164  0.440351 -0.458207 -0.384376  0.266417  0.568742   \n",
       "2     -1.854113  0.824636  0.483432 -0.442831 -0.375081  0.289227  0.589203   \n",
       "3     -1.875718  0.809164  0.523263 -0.445415 -0.393909  0.289227  0.586280   \n",
       "4     -1.874644  0.731804  0.505837 -0.448904 -0.392479  0.255012  0.561434   \n",
       "...         ...       ...       ...       ...       ...       ...       ...   \n",
       "36728 -1.891401  2.387315  1.060287 -0.981255 -1.543602 -2.533516 -0.667691   \n",
       "36729 -1.818812  2.402787  1.118097 -0.947401 -1.560524 -2.499301 -0.566847   \n",
       "36730 -1.642292  2.387315  1.199903 -0.791702 -1.598418 -2.476491 -0.391466   \n",
       "36731 -1.588354  2.418260  1.129438  0.074403 -0.476847 -0.258214  0.577511   \n",
       "36732 -1.567474  2.433732  1.153434 -0.065016 -0.724469 -0.771440  0.302748   \n",
       "\n",
       "            TEY       CDP  \n",
       "0      0.074502 -0.149273  \n",
       "1      0.074502 -0.154783  \n",
       "2      0.102033 -0.017015  \n",
       "3      0.097551 -0.064774  \n",
       "4      0.074502 -0.138251  \n",
       "...         ...       ...  \n",
       "36728 -1.563948 -1.515021  \n",
       "36729 -1.582516 -1.576558  \n",
       "36730 -1.645262 -1.468179  \n",
       "36731 -0.134226 -0.265917  \n",
       "36732 -0.518388 -0.549721  \n",
       "\n",
       "[36733 rows x 9 columns]"
      ]
     },
     "execution_count": 12,
     "metadata": {},
     "output_type": "execute_result"
    }
   ],
   "source": [
    "# Initialize the StandardScaler\n",
    "scaler = StandardScaler()\n",
    "\n",
    "# Fit the scaler on the features and transform them\n",
    "X_scaled = scaler.fit_transform(X)\n",
    "\n",
    "# Convert scaled data back to a DataFrame (optional, for better readability)\n",
    "X_scaled = pd.DataFrame(X_scaled, columns=X.columns)\n",
    "X_scaled"
   ]
  },
  {
   "cell_type": "markdown",
   "metadata": {},
   "source": [
    "##### Step 2: Linear Regression + Analysis"
   ]
  },
  {
   "cell_type": "markdown",
   "metadata": {},
   "source": [
    "Split into train/test - 1 level cross validation"
   ]
  },
  {
   "cell_type": "markdown",
   "metadata": {},
   "source": [
    "Introduce regularization parameter - choose range of lambda values - for each value use K = 10 fold cross validation to estimate the generalization error - Plot figure estimated generalization error as a function of lambda"
   ]
  },
  {
   "cell_type": "code",
   "execution_count": 27,
   "metadata": {},
   "outputs": [
    {
     "data": {
      "image/png": "[encoded data removed]",
      "text/plain": [
       "<Figure size 800x600 with 1 Axes>"
      ]
     },
     "metadata": {},
     "output_type": "display_data"
    }
   ],
   "source": [
    "from sklearn.linear_model import Ridge\n",
    "from sklearn.model_selection import cross_val_score, KFold\n",
    "import numpy as np\n",
    "import matplotlib.pyplot as plt\n",
    "\n",
    "# Define a range of lambda values (regularization parameters)\n",
    "lambdas = np.logspace(-2, 0, 50)  # From 0.01 to 1 in 50 steps\n",
    "#lambdas = range(-6,10,1)\n",
    "\n",
    "# Prepare a list to store the mean cross-validated error for each lambda\n",
    "mean_errors = []\n",
    "\n",
    "# Set up K-fold cross-validation (K=10)\n",
    "kf = KFold(n_splits=10, shuffle=True, random_state=42)\n",
    "\n",
    "# Loop through each lambda value\n",
    "for l in lambdas:\n",
    "    # Initialize Ridge regression model with current lambda (alpha in Ridge)\n",
    "    model = Ridge(alpha=l)\n",
    "    \n",
    "    # Compute cross-validated MSE scores (negative because Scikit-Learn returns negative MSE for scoring)\n",
    "    cv_scores = cross_val_score(model, X_scaled, y, cv=kf, scoring='neg_mean_squared_error')\n",
    "    \n",
    "    # Take the mean of the negative MSE scores to get the average error for this lambda\n",
    "    mean_error = -np.mean(cv_scores)\n",
    "    mean_errors.append(mean_error)\n",
    "\n",
    "# Plot the generalization error as a function of lambda\n",
    "plt.figure(figsize=(8, 6))\n",
    "plt.plot(lambdas, mean_errors, marker='o', linestyle='-', color='b', label='Generalization Error')\n",
    "plt.xscale('log')  # Use a logarithmic scale for lambda\n",
    "plt.xlabel('Regularization Parameter (λ)')\n",
    "plt.ylabel('Mean Squared Error')\n",
    "plt.title('Generalization Error as a Function of λ')\n",
    "plt.legend()\n",
    "plt.grid(True)\n",
    "plt.show()"
   ]
  },
  {
   "cell_type": "code",
   "execution_count": 28,
   "metadata": {},
   "outputs": [
    {
     "name": "stdout",
     "output_type": "stream",
     "text": [
      "Optimal λ: 0.20235896477251566\n",
      "Minimum Mean Squared Error: 65.83039159956026\n"
     ]
    }
   ],
   "source": [
    "# Find the index of the minimum error\n",
    "min_index = np.argmin(mean_errors)\n",
    "\n",
    "# Retrieve the corresponding lambda value\n",
    "optimal_lambda = lambdas[min_index]\n",
    "\n",
    "# Print the optimal lambda and its corresponding error\n",
    "print(f\"Optimal λ: {optimal_lambda}\")\n",
    "print(f\"Minimum Mean Squared Error: {mean_errors[min_index]}\")"
   ]
  },
  {
   "cell_type": "markdown",
   "metadata": {},
   "source": [
    "### Part B: Model comparisons (LR, ANN, Baseline)"
   ]
  },
  {
   "cell_type": "markdown",
   "metadata": {},
   "source": [
    "##### Step 1: Data Preparation"
   ]
  },
  {
   "cell_type": "markdown",
   "metadata": {},
   "source": [
    "Implement two-level cross validation with K1=K2=10"
   ]
  },
  {
   "cell_type": "code",
   "execution_count": null,
   "metadata": {},
   "outputs": [],
   "source": [
    "from sklearn.linear_model import Ridge\n",
    "from sklearn.neural_network import MLPRegressor\n",
    "from sklearn.metrics import mean_squared_error\n",
    "from sklearn.model_selection import KFold\n",
    "import numpy as np\n",
    "import matplotlib.pyplot as plt\n",
    "\n",
    "# Set up KFold for outer cross-validation (K=10)\n",
    "kf = KFold(n_splits=10, shuffle=True, random_state=42)\n",
    "fold_indices = list(kf.split(X_scaled))  # Store indices to reuse across models\n",
    "\n",
    "# Storage for errors\n",
    "baseline_errors, ridge_errors, ann_errors = [], [], []"
   ]
  },
  {
   "cell_type": "markdown",
   "metadata": {},
   "source": [
    "##### Step 2: Baseline"
   ]
  },
  {
   "cell_type": "markdown",
   "metadata": {},
   "source": [
    "Implement Base model: predicting the mean"
   ]
  },
  {
   "cell_type": "code",
   "execution_count": null,
   "metadata": {},
   "outputs": [],
   "source": []
  },
  {
   "cell_type": "markdown",
   "metadata": {},
   "source": [
    "##### Step 3: Apply LR from Part A"
   ]
  },
  {
   "cell_type": "code",
   "execution_count": null,
   "metadata": {},
   "outputs": [],
   "source": []
  },
  {
   "cell_type": "markdown",
   "metadata": {},
   "source": [
    "##### Step 4: ANN"
   ]
  },
  {
   "cell_type": "code",
   "execution_count": null,
   "metadata": {},
   "outputs": [],
   "source": []
  },
  {
   "cell_type": "markdown",
   "metadata": {},
   "source": [
    "##### Step 5: Comparison"
   ]
  },
  {
   "attachments": {
    "image.png": {
     "image/png": "[encoded data removed]"
    }
   },
   "cell_type": "markdown",
   "metadata": {},
   "source": [
    "![image.png](attachment:image.png)"
   ]
  },
  {
   "cell_type": "code",
   "execution_count": null,
   "metadata": {},
   "outputs": [],
   "source": []
  },
  {
   "cell_type": "markdown",
   "metadata": {},
   "source": [
    "##### Step 6: Statistical Evaluation"
   ]
  },
  {
   "cell_type": "markdown",
   "metadata": {},
   "source": []
  }
 ],
 "metadata": {
  "kernelspec": {
   "display_name": "introML",
   "language": "python",
   "name": "python3"
  },
  "language_info": {
   "codemirror_mode": {
    "name": "ipython",
    "version": 3
   },
   "file_extension": ".py",
   "mimetype": "text/x-python",
   "name": "python",
   "nbconvert_exporter": "python",
   "pygments_lexer": "ipython3",
   "version": "3.11.9"
  }
 },
 "nbformat": 4,
 "nbformat_minor": 2
}
