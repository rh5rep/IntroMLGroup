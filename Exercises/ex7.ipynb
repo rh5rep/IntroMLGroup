{
 "cells": [
  {
   "cell_type": "markdown",
   "metadata": {},
   "source": [
    "# Exercise 7: Performance evaluation, Bayes, and Naive Bayes"
   ]
  },
  {
   "cell_type": "markdown",
   "metadata": {},
   "source": [
    "The objective of today’s exercise is to estimate confidence intervals for the performance of both regression and classification models, to compare two regression and two classification models against each other, and finally to introduce the Na ̈ıve Bayes classification method."
   ]
  },
  {
   "cell_type": "markdown",
   "metadata": {},
   "source": [
    "### Exercise 7.1: Statistical Evaluation of Classifiers\n",
    "\n",
    "In this exercise, we will focus on the **performance evaluation** of different classifiers using statistical methods. The key goals are:\n",
    "- To use **cross-validation** techniques (such as leave-one-out cross-validation) to evaluate and compare the accuracy of different classification models.\n",
    "- To understand how the choice of model parameters (e.g., number of neighbors \\( k \\) in KNN) affects performance, and to assess which model performs best based on empirical evidence.\n",
    "\n",
    "Through this exercise, we aim to gain insights into how different classifiers handle the same dataset and how their predictive accuracy varies based on the chosen model parameters."
   ]
  },
  {
   "cell_type": "markdown",
   "metadata": {},
   "source": [
    "### Exercise 7.1.1: Evaluating the Performance of Different KNN Models\n",
    "\n",
    "In this task, we will evaluate the performance of three K-nearest neighbor (KNN) models on the Iris dataset using **leave-one-out cross-validation (LOO-CV)**. The models use different values of \\( k \\):\n",
    "- \\( k = 1 \\)\n",
    "- \\( k = 20 \\)\n",
    "- \\( k = 80 \\)\n",
    "\n",
    "For each model, the classification accuracy will be computed, and we will compare the performance of the models to draw conclusions about their effectiveness. Smaller \\( k \\) values may overfit the data, while larger \\( k \\) values might smooth the decision boundaries too much, potentially underfitting the data."
   ]
  },
  {
   "cell_type": "code",
   "execution_count": null,
   "metadata": {},
   "outputs": [],
   "source": [
    "# exercise 1.5.1\n",
    "import importlib_resources\n",
    "import numpy as np\n",
    "import pandas as pd\n",
    "\n",
    "# Load the Iris csv data using the Pandas library\n",
    "filename = importlib_resources.files(\"dtuimldmtools\").joinpath(\"data/iris.csv\")\n",
    "\n",
    "# Print the location of the iris.csv file on your computer. \n",
    "# You should inspect it manually to understand the format and content\n",
    "print(\"\\nLocation of the iris.csv file: {}\".format(filename))\n",
    "\n",
    "# Load the iris.csv file using pandas\n",
    "df = pd.read_csv(filename)\n",
    "raw_data = df.values\n",
    "cols = range(0, 4)\n",
    "X = raw_data[:, cols]\n",
    "classLabels = raw_data[:, -1]  # -1 takes the last column\n",
    "classNames = np.unique(classLabels)\n",
    "classDict = dict(zip(classNames, range(len(classNames))))\n",
    "y = np.array([classDict[cl] for cl in classLabels])\n",
    "N, M = X.shape\n",
    "C = len(classNames)\n"
   ]
  },
  {
   "cell_type": "code",
   "execution_count": null,
   "metadata": {},
   "outputs": [],
   "source": [
    "import numpy as np\n",
    "\n",
    "from matplotlib.pyplot import figure, plot, show, xlabel, ylabel\n",
    "from scipy.io import loadmat\n",
    "from sklearn import model_selection\n",
    "from sklearn.neighbors import KNeighborsClassifier\n",
    "\n",
    "# This script crates predictions from three KNN classifiers using cross-validation\n",
    "\n",
    "# Maximum number of neighbors\n",
    "L = [1, 20, 80]\n",
    "\n",
    "CV = model_selection.LeaveOneOut()\n",
    "i = 0\n",
    "\n",
    "# store predictions.\n",
    "yhat = []\n",
    "y_true = []\n",
    "for train_index, test_index in CV.split(X, y):\n",
    "    print(\"Crossvalidation fold: {0}/{1}\".format(i + 1, N))\n",
    "\n",
    "    # extract training and test set for current CV fold\n",
    "    X_train = X[train_index, :]\n",
    "    y_train = y[train_index]\n",
    "    X_test = X[test_index, :]\n",
    "    y_test = y[test_index]\n",
    "\n",
    "    # Fit classifier and classify the test points (consider 1 to 40 neighbors)\n",
    "    dy = []\n",
    "    for l in L:\n",
    "        knclassifier = KNeighborsClassifier(n_neighbors=l)\n",
    "        knclassifier.fit(X_train, y_train)\n",
    "        y_est = knclassifier.predict(X_test)\n",
    "\n",
    "        dy.append(y_est)\n",
    "        # errors[i,l-1] = np.sum(y_est[0]!=y_test[0])\n",
    "    dy = np.stack(dy, axis=1)\n",
    "    yhat.append(dy)\n",
    "    y_true.append(y_test)\n",
    "    i += 1\n",
    "\n",
    "yhat = np.concatenate(yhat)\n",
    "y_true = np.concatenate(y_true)\n",
    "yhat[:, 0]  # predictions made by first classifier.\n",
    "# Compute accuracy here."
   ]
  },
  {
   "cell_type": "markdown",
   "metadata": {},
   "source": [
    "\n",
    "\n",
    "This script evaluates three K-nearest neighbor classifiers with different values of \\( k \\) (1, 20, and 80) using leave-one-out cross-validation (LOO-CV) on the Iris dataset. For each fold, we:\n",
    "1. Train the classifier using the training data.\n",
    "2. Predict the class label for the test data.\n",
    "3. Store the predictions for each classifier and calculate the classification accuracy at the end.\n",
    "\n",
    "We will compare the accuracy of the three models to understand the effect of different \\( k \\) values on the classifier's performance."
   ]
  },
  {
   "cell_type": "code",
   "execution_count": null,
   "metadata": {},
   "outputs": [],
   "source": [
    "# Compute accuracy for each classifier (k = 1, k = 20, k = 80)\n",
    "for i, l in enumerate(L):\n",
    "    accuracy = np.mean(yhat[:, i] == y_true)\n",
    "    print(f\"Accuracy for K={l}: {accuracy * 100:.2f}%\")"
   ]
  },
  {
   "cell_type": "markdown",
   "metadata": {},
   "source": [
    "#### -> highest accuracy for K=20"
   ]
  },
  {
   "cell_type": "markdown",
   "metadata": {},
   "source": [
    "### Exercise 7.1.2: Comparing Classification Models\n",
    "\n",
    "In this task, we will compare different classification models on the Iris dataset using **leave-one-out cross-validation (LOO-CV)**. The models we will evaluate are:\n",
    "1. **K-nearest neighbors (KNN)** with different values of \\( k \\).\n",
    "2. **Logistic Regression**.\n",
    "3. **Naive Bayes**.\n",
    "\n",
    "For each model, we will compute the classification accuracy and compare their performance to understand which model works best for this dataset."
   ]
  },
  {
   "cell_type": "markdown",
   "metadata": {},
   "source": [
    "### Exercise 7.1.2: Computing the Jeffrey Interval for Model Accuracy\n",
    "\n",
    "This task involves computing the **Jeffrey interval** for the accuracy of three models:\n",
    "- **Model MA** (already implemented).\n",
    "- **Two other models** (you will need to modify the script to compute these).\n",
    "\n",
    "The Jeffrey interval provides a robust estimate of the confidence interval for proportions, such as classification accuracy. After computing the intervals for all models, we will compare the results and draw conclusions about the models' performance, particularly whether the observed differences in accuracy are statistically significant."
   ]
  },
  {
   "cell_type": "code",
   "execution_count": null,
   "metadata": {},
   "outputs": [],
   "source": [
    "from dtuimldmtools import jeffrey_interval\n",
    "\n",
    "# Compute the Jeffreys interval\n",
    "alpha = 0.05\n",
    "[thetahatA, CIA] = jeffrey_interval(y_true, yhat[:, 0], alpha=alpha)\n",
    "\n",
    "print(\"Theta point estimate\", thetahatA, \" CI: \", CIA)\n"
   ]
  },
  {
   "cell_type": "code",
   "execution_count": null,
   "metadata": {},
   "outputs": [],
   "source": [
    "# Compute the Jeffreys interval for each model\n",
    "alpha = 0.05\n",
    "\n",
    "# For model with k = 1\n",
    "[thetahatA, CIA] = jeffrey_interval(y_true, yhat[:, 0], alpha=alpha)\n",
    "print(\"Model with k=1 - Theta point estimate:\", thetahatA, \" CI: \", CIA)\n",
    "\n",
    "# For model with k = 20\n",
    "[thetahatB, CIB] = jeffrey_interval(y_true, yhat[:, 1], alpha=alpha)\n",
    "print(\"Model with k=20 - Theta point estimate:\", thetahatB, \" CI: \", CIB)\n",
    "\n",
    "# For model with k = 80\n",
    "[thetahatC, CIC] = jeffrey_interval(y_true, yhat[:, 2], alpha=alpha)\n",
    "print(\"Model with k=80 - Theta point estimate:\", thetahatC, \" CI: \", CIC)"
   ]
  },
  {
   "cell_type": "markdown",
   "metadata": {},
   "source": [
    "### Explanation of Values\n",
    "\n",
    "- **`thetahatA`**: The point estimate of the model's accuracy, representing the percentage of correct predictions made by the model.\n",
    "- **`CIA`**: The confidence interval for the model's accuracy, computed using the Jeffrey interval. This interval provides a range within which the true accuracy of the model is likely to fall.\n",
    "- **`alpha`**: The significance level, typically set to 0.05. This corresponds to a 95% confidence level, meaning we are 95% confident that the true accuracy lies within the confidence interval."
   ]
  },
  {
   "cell_type": "markdown",
   "metadata": {},
   "source": [
    "### Exercise 7.1.3: Effect of Alpha on the Jeffrey Interval\n",
    "\n",
    "In this task, we will change the value of \\( \\alpha \\) to explore its effect on the Jeffrey interval. The parameter \\( \\alpha \\) controls the confidence level of the interval:\n",
    "- \\( \\alpha = 0.05 \\) corresponds to a 95% confidence interval.\n",
    "- \\( \\alpha = 0.1 \\) corresponds to a 90% confidence interval.\n",
    "- \\( \\alpha = 0.01 \\) corresponds to a 99% confidence interval.\n",
    "\n",
    "We will observe how the interval changes and explain how decreasing or increasing \\( \\alpha \\) affects the width of the confidence interval and the probability that the true accuracy lies within the interval."
   ]
  },
  {
   "cell_type": "code",
   "execution_count": null,
   "metadata": {},
   "outputs": [],
   "source": [
    "from dtuimldmtools import jeffrey_interval\n",
    "\n",
    "# Test with different alpha values\n",
    "alpha_values = [0.1, 0.05, 0.01]\n",
    "\n",
    "for alpha in alpha_values:\n",
    "    # Compute the Jeffrey interval for each alpha\n",
    "    thetahatA, CIA = jeffrey_interval(y_true, yhat[:, 0], alpha=alpha)\n",
    "    print(f\"Alpha = {alpha}: Theta point estimate = {thetahatA}, CI = {CIA}\")"
   ]
  },
  {
   "cell_type": "markdown",
   "metadata": {},
   "source": [
    "### Interpretation of Jeffrey Interval Results for Different \\( \\alpha \\)\n",
    "\n",
    "- **\\( \\alpha = 0.1 \\)** (90% confidence): The true accuracy is likely between 92.69% and 98.02%. The interval is narrower, providing more precise estimates with slightly less confidence.\n",
    "- **\\( \\alpha = 0.05 \\)** (95% confidence): The true accuracy is likely between 91.94% and 98.31%. This is the standard confidence level, balancing precision and confidence.\n",
    "- **\\( \\alpha = 0.01 \\)** (99% confidence): The true accuracy is likely between 90.37% and 98.80%. This interval is wider, providing more confidence but less precision.\n",
    "\n",
    "As \\( \\alpha \\) decreases, the confidence interval widens, reflecting a trade-off between precision and confidence."
   ]
  },
  {
   "cell_type": "markdown",
   "metadata": {},
   "source": [
    "### Summary of the Interpretation:\n",
    "\n",
    "- **Smaller \\( \\alpha \\)** (e.g., 0.01) leads to **wider confidence intervals**, indicating higher confidence but lower precision.\n",
    "- **Larger \\( \\alpha \\)** (e.g., 0.1) leads to **narrower confidence intervals**, offering more precise estimates but with lower confidence.\n",
    "- **Trade-off**: As \\( \\alpha \\) decreases, we are more confident that the true accuracy lies within the interval, but the interval becomes wider, meaning there is more uncertainty about the exact value of the accuracy."
   ]
  },
  {
   "cell_type": "markdown",
   "metadata": {},
   "source": [
    "### Exercise 7.1.4: Estimating the Difference in Performance Between Models Using McNemar’s Test\n",
    "\n",
    "In this task, we will use **McNemar’s test** to estimate the difference in performance between two models, MA and MB. The objective is to determine whether the two models perform differently on the same dataset. The McNemar test will calculate the difference in performance as:"
   ]
  },
  {
   "attachments": {
    "image.png": {
     "image/png": "[encoded data removed]"
    }
   },
   "cell_type": "markdown",
   "metadata": {},
   "source": [
    "![image.png](attachment:image.png)"
   ]
  },
  {
   "cell_type": "markdown",
   "metadata": {},
   "source": [
    "We will:\n",
    "1. Run the script to estimate \\( \\hat{\\theta} \\) and compute the confidence interval for the difference.\n",
    "2. Analyze the result:\n",
    "   - If \\( \\hat{\\theta} < 0 \\), it suggests that MA may be better than MB.\n",
    "   - Check if the confidence interval contains 0 and interpret the p-value to see if the result is statistically significant.\n",
    "3. Compare the result with the conclusions from **Exercise 7.1.2**.\n",
    "\n",
    "The McNemar test will help us understand whether the observed difference between MA and MB is due to chance or if there is statistical evidence supporting one model over the other."
   ]
  },
  {
   "cell_type": "code",
   "execution_count": null,
   "metadata": {},
   "outputs": [],
   "source": [
    "from dtuimldmtools import mcnemar\n",
    "\n",
    "# Compute the Jeffreys interval\n",
    "alpha = 0.05\n",
    "[thetahat, CI, p] = mcnemar(y_true, yhat[:, 0], yhat[:, 1], alpha=alpha)\n",
    "\n",
    "print(\"\")\n",
    "print(\"theta = theta_A-theta_B point estimate\", thetahat, \" CI: \", CI, \"p-value\", p)\n"
   ]
  },
  {
   "cell_type": "markdown",
   "metadata": {},
   "source": [
    "### McNemar Test Results Interpretation\n",
    "\n",
    "- **\\( \\hat{\\theta} \\)**: The point estimate of the difference in performance between the two models. If \\( \\hat{\\theta} < 0 \\), it suggests that model **MA** may be better than **MB**.\n",
    "- **Confidence Interval (CI)**: The range within which the true difference in performance lies. If the interval contains 0, the result is not statistically significant, meaning the models likely have similar performance.\n",
    "- **p-value**: The probability that the observed difference in performance is due to chance. A high p-value suggests the difference is not statistically significant."
   ]
  },
  {
   "cell_type": "markdown",
   "metadata": {},
   "source": [
    "### Interpretation of McNemar Test Results\n",
    "\n",
    "- **Comparison Matrix (n)**:\n",
    "  - Both models correctly classified 143 instances.\n",
    "  - Model **MA** was correct for 1 instance where **MB** was wrong.\n",
    "  - Model **MB** was correct for 4 instances where **MA** was wrong.\n",
    "  \n",
    "- **Confidence Interval (CI)**: The interval is \\( (-0.0489, 0.00895) \\), meaning the true difference in performance could be very small, and it barely excludes 0, providing weak evidence of any difference.\n",
    "- **p-value**: \\( p = 0.375 \\), meaning the difference between the models is likely due to chance, and we cannot conclude that either model is significantly better.\n",
    "- **Point Estimate**: \\( \\hat{\\theta} = -0.02 \\), suggesting model **MA** performs slightly better, but the difference is very small and not significant.\n",
    "  \n",
    "Overall, the test results are **inconclusive**, and no definitive conclusion can be made about whether **MA** or **MB** is better."
   ]
  },
  {
   "cell_type": "markdown",
   "metadata": {},
   "source": [
    "### Exercise 7.1.5: Comparing MA against MC using McNemar’s Test\n",
    "\n",
    "In this exercise, we modify the previous script to compare model **MA** against model **MC** using McNemar’s test. The objective is to determine whether there are statistically significant differences between the performance of these two models.\n",
    "\n",
    "We will:\n",
    "1. Use McNemar’s test to estimate the difference in performance between **MA** and **MC**.\n",
    "2. Evaluate whether the confidence interval and p-value indicate a significant difference between the models.\n",
    "3. Compare the results and analyze whether there is strong statistical evidence to suggest that **MA** performs better than **MC**.\n",
    "\n",
    "### Key Points:\n",
    "- **Confidence Interval**: We expect to find a wider confidence interval if there is a more significant difference in performance.\n",
    "- **p-value**: A low p-value (e.g., \\( p < 0.01 \\)) would suggest that the difference in performance between **MA** and **MC** is statistically significant and unlikely to be due to chance.\n",
    "- **Conclusion**: The performance difference \\( \\theta \\) is expected to be in the range of **0.05 to 0.1**, with strong evidence suggesting **MA** is better than **MC**."
   ]
  },
  {
   "cell_type": "code",
   "execution_count": null,
   "metadata": {},
   "outputs": [],
   "source": [
    "from dtuimldmtools import mcnemar\n",
    "\n",
    "# Compute the Jeffreys interval for models MA and MC\n",
    "alpha = 0.05\n",
    "[thetahat, CI, p] = mcnemar(y_true, yhat[:, 0], yhat[:, 2], alpha=alpha)\n",
    "\n",
    "print(\"\")\n",
    "print(\"theta = theta_A - theta_C point estimate\", thetahat, \" CI: \", CI, \"p-value\", p)"
   ]
  },
  {
   "cell_type": "markdown",
   "metadata": {},
   "source": [
    "### Interpretation of McNemar Test Results (MA vs MC)\n",
    "\n",
    "- **Comparison Matrix (n)**: \n",
    "  - Both models correctly classified 129 instances.\n",
    "  - **MA** was correct for 15 instances where **MC** was incorrect.\n",
    "  - **MC** was correct for 3 instances where **MA** was incorrect.\n",
    "  \n",
    "- **Confidence Interval (CI)**: The confidence interval \\( (0.0261, 0.1336) \\) shows that the true difference in performance is between **2.6% and 13.4%**, indicating that **MA** performs better than **MC**.\n",
    "\n",
    "- **p-value**: \\( p = 0.0075 \\), which is less than 0.05, indicating the difference in performance is statistically significant. We can reject the null hypothesis that the two models have the same accuracy.\n",
    "\n",
    "- **Point Estimate**: \\( \\hat{\\theta} = 0.08 \\), indicating that **MA** performs **8% better** than **MC**.\n",
    "  \n",
    "**Conclusion**: There is strong evidence that **MA** performs better than **MC**, with a statistically significant difference in accuracy."
   ]
  },
  {
   "cell_type": "markdown",
   "metadata": {},
   "source": [
    "### Exercise 7.1.6: Comparing KNN with k=1 Against a Decision Tree\n",
    "\n",
    "In this task, we will:\n",
    "1. Modify the script from **Exercise 7.1.1** to replace **model MB** with a **classification tree** model.\n",
    "2. Use **McNemar’s test** to compare the performance of the **classification tree** against a **KNN classifier with \\( k = 1 \\)**.\n",
    "3. Analyze the results to determine whether the decision tree or the KNN model performs better based on the test.\n",
    "\n",
    "The goal is to determine if there is a statistically significant difference in the performance of the two models, and to evaluate whether one model is clearly superior."
   ]
  },
  {
   "cell_type": "code",
   "execution_count": null,
   "metadata": {},
   "outputs": [],
   "source": []
  },
  {
   "cell_type": "markdown",
   "metadata": {},
   "source": [
    "### Exercise 7.2: Statistical Evaluation of a Regression Model\n",
    "\n",
    "In this exercise, we will statistically evaluate and compare two regression models: \n",
    "1. A **linear regression model**\n",
    "2. A **regression tree model**\n",
    "\n",
    "The dataset used is the **wine dataset**, where the goal is to predict the **alcohol content** based on other features. The exercise is divided into several parts:"
   ]
  },
  {
   "cell_type": "markdown",
   "metadata": {},
   "source": [
    "1. **Exercise 7.2.1**: \n",
    "   - The script ex7_2_1.py uses the **hold-out method** to generate a training/test split. \n",
    "   - It applies a **t-test** to obtain a confidence interval for the linear regression model.\n",
    "   - We will modify the script to obtain a confidence interval for the regression tree."
   ]
  },
  {
   "cell_type": "code",
   "execution_count": 64,
   "metadata": {},
   "outputs": [],
   "source": [
    "# exercise 5.1.5\n",
    "import os\n",
    "\n",
    "import importlib_resources\n",
    "import numpy as np\n",
    "from scipy.io import loadmat\n",
    "\n",
    "def load_5_1_5():\n",
    "    filename = importlib_resources.files(\"dtuimldmtools\").joinpath(\"data/wine.mat\")\n",
    "    # Load Matlab data file and extract variables of interest\n",
    "    workingDir = os.getcwd()\n",
    "    print(\"Running from: \" + workingDir)\n",
    "\n",
    "    mat_data = loadmat(filename)\n",
    "    X = mat_data[\"X\"]\n",
    "    y = mat_data[\"y\"].astype(int).squeeze()\n",
    "    C = mat_data[\"C\"][0, 0]\n",
    "    M = mat_data[\"M\"][0, 0]\n",
    "    N = mat_data[\"N\"][0, 0]\n",
    "\n",
    "    attributeNames = [i[0][0] for i in mat_data[\"attributeNames\"]]\n",
    "    classNames = [j[0] for i in mat_data[\"classNames\"] for j in i]\n",
    "\n",
    "\n",
    "    # Remove outliers\n",
    "    outlier_mask = (X[:, 1] > 20) | (X[:, 7] > 10) | (X[:, 10] > 200)\n",
    "    valid_mask = np.logical_not(outlier_mask)\n",
    "    X = X[valid_mask, :]\n",
    "    y = y[valid_mask]\n",
    "    # Remove attribute 12 (Quality score)\n",
    "    X = X[:, 0:11]\n",
    "    attributeNames = attributeNames[0:11]\n",
    "    # Update N and M\n",
    "    N, M = X.shape\n",
    "\n",
    "    print(\"Ran Exercise 5.1.5\")\n",
    "\n",
    "    return X, y, N, M"
   ]
  },
  {
   "cell_type": "code",
   "execution_count": 59,
   "metadata": {},
   "outputs": [],
   "source": [
    "import numpy as np\n",
    "import scipy.stats\n",
    "import scipy.stats as st\n",
    "import sklearn.tree\n",
    "\n",
    "from matplotlib.pyplot import figure, plot, show, xlabel, ylabel\n",
    "from sklearn import model_selection\n",
    "from sklearn.neighbors import KNeighborsClassifier\n",
    "\n",
    "X, y, N, M = load_5_1_5()\n",
    "\n",
    "X, y = X[:, :10], X[:, 10:]\n",
    "# This script crates predictions from three KNN classifiers using cross-validation\n",
    "\n",
    "test_proportion = 0.2\n",
    "\n",
    "X_train, X_test, y_train, y_test = model_selection.train_test_split(\n",
    "    X, y, test_size=test_proportion\n",
    ")\n",
    "\n",
    "mA = sklearn.linear_model.LinearRegression().fit(X_train, y_train)\n",
    "mB = sklearn.tree.DecisionTreeRegressor().fit(X_train, y_train)\n",
    "\n",
    "yhatA = mA.predict(X_test)\n",
    "yhatB = mB.predict(X_test)[:, np.newaxis]  #  justsklearnthings\n",
    "\n",
    "# perform statistical comparison of the models\n",
    "# compute z with squared error.\n",
    "zA = np.abs(y_test - yhatA) ** 2\n",
    "\n",
    "# compute confidence interval of model A\n",
    "alpha = 0.05\n",
    "CIA = st.t.interval(\n",
    "    1 - alpha, df=len(zA) - 1, loc=np.mean(zA), scale=st.sem(zA)\n",
    ")  # Confidence interval\n",
    "\n",
    "# Compute confidence interval of z = zA-zB and p-value of Null hypothesis\n",
    "zB = np.abs(y_test - yhatB) ** 2\n",
    "z = zA - zB\n",
    "CI = st.t.interval(\n",
    "    1 - alpha, len(z) - 1, loc=np.mean(z), scale=st.sem(z)\n",
    ")  # Confidence interval\n",
    "p = 2 * st.t.cdf(-np.abs(np.mean(z)) / st.sem(z), df=len(z) - 1)  # p-value"
   ]
  },
  {
   "cell_type": "code",
   "execution_count": null,
   "metadata": {},
   "outputs": [],
   "source": [
    "# Compute the confidence interval for the regression tree model (mB)\n",
    "CIB = st.t.interval(1 - alpha, df=len(zB) - 1, loc=np.mean(zB), scale=st.sem(zB))\n",
    "\n",
    "# Output the results for the regression tree model\n",
    "print(f\"Regression Tree Confidence Interval: {CIB}\")"
   ]
  },
  {
   "cell_type": "markdown",
   "metadata": {},
   "source": [
    "### Exercise 7.2.2: Comparing Linear Regression and Regression Tree Models\n",
    "\n",
    "In this exercise, we will compare the performance of a **Linear Regression model** and a **Regression Tree model** using the squared errors as the performance metric. The goal is to:\n",
    "\n",
    "1. Calculate the **difference in squared errors** between the two models.\n",
    "2. Compute the **confidence interval** for this difference to determine if there is a statistically significant performance gap.\n",
    "3. Calculate the **p-value** to test the null hypothesis that both models perform equally well (i.e., the difference in performance is not statistically significant).\n",
    "\n",
    "Based on the confidence interval and p-value, we will draw conclusions about whether one model significantly outperforms the other."
   ]
  },
  {
   "cell_type": "code",
   "execution_count": null,
   "metadata": {},
   "outputs": [],
   "source": [
    "# Compute the difference in squared errors (Linear Regression - Decision Tree)\n",
    "z = zA - zB\n",
    "\n",
    "# Compute the confidence interval for the difference in errors\n",
    "CI_diff = st.t.interval(1 - alpha, df=len(z) - 1, loc=np.mean(z), scale=st.sem(z))\n",
    "\n",
    "# Compute the p-value for the difference between the models\n",
    "p_value = 2 * st.t.cdf(-np.abs(np.mean(z)) / st.sem(z), df=len(z) - 1)\n",
    "\n",
    "# Output the results\n",
    "print(f\"Confidence Interval for the difference in errors (Linear Regression - Decision Tree): {CI_diff}\")\n",
    "print(f\"p-value for the difference: {p_value}\")"
   ]
  },
  {
   "cell_type": "markdown",
   "metadata": {},
   "source": [
    "### Interpretation of Results:\n",
    "\n",
    "- **Confidence Interval**: The confidence interval for the difference in errors between the Linear Regression and Regression Tree models is \\( (-0.1659, -0.0591) \\), which excludes 0. This indicates a statistically significant difference, with the Linear Regression model having lower squared errors than the Regression Tree model.\n",
    "  \n",
    "- **p-value**: The p-value is extremely small \\( (3.78 \\times 10^{-5}) \\), confirming that the difference in performance is statistically significant and not due to random chance.\n",
    "\n",
    "**Conclusion**: The Linear Regression model significantly outperforms the Regression Tree model in this case."
   ]
  },
  {
   "cell_type": "markdown",
   "metadata": {},
   "source": [
    "### Exercise 7.2.3: Comparing Hold-Out and K-Fold Cross-Validation\n",
    "\n",
    "In this exercise, we will modify the script to use **K = 10-fold cross-validation** and compare the results (p-value and confidence interval) to those obtained using the hold-out method.\n",
    "\n",
    "Steps:\n",
    "1. Implement 10-fold cross-validation for both the **Linear Regression model** and the **Regression Tree model**.\n",
    "2. Compare the **p-value** and **confidence interval** between the hold-out method and cross-validation.\n",
    "3. Analyze the expected changes in the confidence interval as we transition from the hold-out method to K-fold cross-validation, and eventually to leave-one-out cross-validation (LOO-CV).\n",
    "4. Re-run the experiment using the **L1 loss** as the performance measure instead of the squared error (L2 loss).\n",
    "\n",
    "The objective is to determine how different evaluation methods affect the model performance comparison."
   ]
  },
  {
   "cell_type": "code",
   "execution_count": null,
   "metadata": {},
   "outputs": [],
   "source": [
    "import numpy as np\n",
    "import scipy.stats as st\n",
    "import sklearn.tree\n",
    "from sklearn import model_selection\n",
    "from sklearn.linear_model import LinearRegression\n",
    "from sklearn.tree import DecisionTreeRegressor\n",
    "\n",
    "X, y, N, M = load_5_1_5()\n",
    "\n",
    "# Assuming X and y are already loaded\n",
    "X, y = X[:, :10], X[:, 10:]\n",
    "\n",
    "# Define the number of folds for cross-validation\n",
    "K = 10\n",
    "alpha = 0.05\n",
    "\n",
    "# Initialize arrays to store errors across folds\n",
    "errors_A = []\n",
    "errors_B = []\n",
    "\n",
    "# Perform 10-fold cross-validation\n",
    "CV = model_selection.KFold(n_splits=K, shuffle=True, random_state=42)\n",
    "\n",
    "for train_index, test_index in CV.split(X):\n",
    "    X_train, X_test = X[train_index, :], X[test_index, :]\n",
    "    y_train, y_test = y[train_index], y[test_index]\n",
    "\n",
    "    # Fit Linear Regression model\n",
    "    mA = LinearRegression().fit(X_train, y_train)\n",
    "\n",
    "    # Fit Decision Tree model\n",
    "    mB = DecisionTreeRegressor().fit(X_train, y_train)\n",
    "\n",
    "    # Get predictions for both models\n",
    "    yhatA = mA.predict(X_test)\n",
    "    yhatB = mB.predict(X_test)\n",
    "\n",
    "    # Compute L1 loss (absolute error) for both models\n",
    "    zA = np.abs(y_test - yhatA)  # L1 loss for Linear Regression\n",
    "    zB = np.abs(y_test - yhatB)  # L1 loss for Decision Tree\n",
    "\n",
    "    errors_A.append(np.mean(zA))\n",
    "    errors_B.append(np.mean(zB))\n",
    "\n",
    "# Convert errors to numpy arrays\n",
    "errors_A = np.array(errors_A)\n",
    "errors_B = np.array(errors_B)\n",
    "\n",
    "# Compute the difference in L1 errors between the two models\n",
    "z = errors_A - errors_B\n",
    "\n",
    "# Compute the confidence interval for the difference in errors\n",
    "CI_diff = st.t.interval(1 - alpha, df=len(z) - 1, loc=np.mean(z), scale=st.sem(z))\n",
    "\n",
    "# Compute the p-value for the difference between the models\n",
    "p_value = 2 * st.t.cdf(-np.abs(np.mean(z)) / st.sem(z), df=len(z) - 1)\n",
    "\n",
    "# Output the results\n",
    "print(f\"Confidence Interval for the difference in L1 errors (Linear Regression - Decision Tree): {CI_diff}\")\n",
    "print(f\"p-value for the difference: {p_value}\")"
   ]
  },
  {
   "cell_type": "markdown",
   "metadata": {},
   "source": [
    "### Interpretation of 10-Fold Cross-Validation Results:\n",
    "\n",
    "- **Confidence Interval**: The confidence interval for the difference in L1 errors between Linear Regression and Decision Tree is \\( (-0.9789, -0.9320) \\). Since the interval is entirely negative, it indicates that the Linear Regression model consistently has lower errors than the Decision Tree model.\n",
    "  \n",
    "- **p-value**: The p-value is extremely small \\( (1.05 \\times 10^{-14}) \\), confirming that the difference in performance is statistically significant and not due to random chance.\n",
    "\n",
    "**Conclusion**: Linear Regression significantly outperforms the Decision Tree model based on L1 loss."
   ]
  },
  {
   "cell_type": "markdown",
   "metadata": {},
   "source": [
    "### 7.3 Statistical evaluation in setup II (Optional)"
   ]
  },
  {
   "cell_type": "markdown",
   "metadata": {},
   "source": [
    "### 7.4 Bayes and Naive Bayes"
   ]
  },
  {
   "cell_type": "markdown",
   "metadata": {},
   "source": [
    "### Exercise 7.4: Bayes and Naive Bayes Classification\n",
    "\n",
    "In this exercise, we classify names as either male or female using:\n",
    "1. **Bayes classifier**: Using all letter features simultaneously.\n",
    "2. **Naive Bayes classifier**: Assuming each letter feature is conditionally independent of the others given the class label.\n",
    "\n",
    "#### Key Steps:\n",
    "1. **Feature Extraction**:\n",
    "   - Extract the **first**, **second**, **second-to-last**, and **last letter** of each name as features.\n",
    "   - Encode these letter features as numerical values (1 for 'a', 26 for 'z') for the classifier.\n",
    "\n",
    "2. **Tasks**:\n",
    "   - **Exercise 7.4.1**: Count occurrences of letter combinations to estimate probabilities.\n",
    "   - **Exercise 7.4.2**: Evaluate the adequacy of estimating probabilities based on training data and consider the use of a Naive Bayes classifier.\n",
    "   - **Exercise 7.4.3**: Run the provided script to load and process the data, filtering names and extracting features.\n",
    "   - **Exercise 7.4.4**: Implement a Naive Bayes classifier with a uniform prior (equal probabilities for male and female) and compute the classification error using 10-fold cross-validation.\n",
    "   - **Exercise 7.4.5**: Modify the prior to reflect empirical probabilities of male and female names in the training data and evaluate any improvement.\n",
    "\n",
    "The objective is to see how well the Naive Bayes assumption performs in comparison to the full Bayes classifier."
   ]
  },
  {
   "cell_type": "markdown",
   "metadata": {},
   "source": [
    "### Exercise 7.4.1: Counting Letter Combinations\n",
    "\n",
    "To classify names as male or female based on four specific letter positions:\n",
    "- **\\( x_1 \\):** First letter\n",
    "- **\\( x_2 \\):** Second letter\n",
    "- **\\( x_3 \\):** Second-to-last letter\n",
    "- **\\( x_4 \\):** Last letter\n",
    "\n",
    "we need to evaluate all possible letter combinations across these positions. \n",
    "\n",
    "#### Calculation:\n",
    "Each letter position can take on **26 possible values** (from 'a' to 'z'). Since there are **four positions** to evaluate, the total number of combinations is calculated as:"
   ]
  },
  {
   "attachments": {
    "image.png": {
     "image/png": "[encoded data removed]"
    }
   },
   "cell_type": "markdown",
   "metadata": {},
   "source": [
    "![image.png](attachment:image.png)"
   ]
  },
  {
   "cell_type": "markdown",
   "metadata": {},
   "source": [
    "Thus, there are **456,976 different letter combinations** to consider. For each combination, we would count its occurrences in the male and female names within the training data to estimate probabilities for classification."
   ]
  },
  {
   "cell_type": "markdown",
   "metadata": {},
   "source": [
    "### Exercise 7.4.2: Estimating Instances Required for Reliable Probability Estimates\n",
    "\n",
    "To classify names by gender using all possible four-letter combinations, we need reliable probability estimates for each combination:\n",
    "- There are **456,976 possible combinations** (26 letters across four positions).\n",
    "\n",
    "#### Data Requirement\n",
    "A common rule of thumb is to have at least **10 occurrences per combination** to stabilize probability estimates. Therefore, the required number of instances would be:\n",
    "\n",
    "\\[\n",
    "456,976 \\times 10 = 4,569,760\n",
    "\\]\n",
    "\n",
    "Thus, we would need approximately **4.57 million instances** to obtain reliable estimates for each combination. Given that this is often impractical, the **Naïve Bayes assumption** of independence between letter positions is typically used to simplify the estimation process."
   ]
  },
  {
   "cell_type": "markdown",
   "metadata": {},
   "source": [
    "### Exercise 7.4.3: Feature Extraction for Name Classification\n",
    "\n",
    "In this exercise, we will prepare the dataset for classifying names as male or female by:\n",
    "1. **Loading the dataset** with labeled male and female names.\n",
    "2. **Filtering**: Only names with at least four letters will be included in the analysis.\n",
    "3. **Feature Extraction**: For each name, we will extract:\n",
    "   - The **first** letter,\n",
    "   - The **second** letter,\n",
    "   - The **second-to-last** letter, and\n",
    "   - The **last** letter.\n",
    "\n",
    "These extracted letter features will serve as inputs to a Naïve Bayes classifier, which will learn patterns based on these specific letter positions."
   ]
  },
  {
   "cell_type": "code",
   "execution_count": null,
   "metadata": {},
   "outputs": [],
   "source": [
    "# exercise 7.4.3\n",
    "import importlib_resources\n",
    "import numpy as np\n",
    "\n",
    "# Load list of names from files\n",
    "\n",
    "fmale = open(importlib_resources.files(\"dtuimldmtools\").joinpath(\"data/male.txt\"), \"r\")\n",
    "ffemale = open(\n",
    "    importlib_resources.files(\"dtuimldmtools\").joinpath(\"data/female.txt\"), \"r\"\n",
    ")\n",
    "mnames = fmale.readlines()\n",
    "fnames = ffemale.readlines()\n",
    "names = mnames + fnames\n",
    "gender = [0] * len(mnames) + [1] * len(fnames)\n",
    "fmale.close()\n",
    "ffemale.close()\n",
    "\n",
    "# Extract X, y and the rest of variables. Include only names of >4 characters.\n",
    "X = np.zeros((len(names), 4))\n",
    "y = np.zeros((len(names), 1))\n",
    "n = 0\n",
    "for i in range(0, len(names)):\n",
    "    name = names[i].strip().lower()\n",
    "    if len(name) > 3:\n",
    "        X[n, :] = [\n",
    "            ord(name[0]) - ord(\"a\") + 1,\n",
    "            ord(name[1]) - ord(\"a\") + 1,\n",
    "            ord(name[-2]) - ord(\"a\") + 1,\n",
    "            ord(name[-1]) - ord(\"a\") + 1,\n",
    "        ]\n",
    "        y[n, 0] = gender[i]\n",
    "        n += 1\n",
    "X = X[0:n, :]\n",
    "y = y[0:n, :]\n",
    "\n",
    "N, M = X.shape\n",
    "C = 2\n",
    "attributeNames = [\"1st letter\", \"2nd letter\", \"Next-to-last letter\", \"Last letter\"]\n",
    "classNames = [\"Female\", \"Male\"]\n",
    "\n",
    "print(\"Ran Exercise 7.2.3\")"
   ]
  },
  {
   "cell_type": "code",
   "execution_count": null,
   "metadata": {},
   "outputs": [],
   "source": [
    "X.shape"
   ]
  },
  {
   "cell_type": "markdown",
   "metadata": {},
   "source": [
    "### Exercise 7.4.4: Naïve Bayes Classification with Cross-Validation\n",
    "\n",
    "In this exercise, we will:\n",
    "1. **Implement a Naïve Bayes classifier** to classify names as male or female, assuming independence between the letter features.\n",
    "2. **Set Prior Probabilities**: Use a uniform prior, assuming equal likelihood of male and female names.\n",
    "3. **Evaluate the Model**: Perform **10-fold cross-validation** to calculate the classification error and assess the model's performance.\n",
    "\n",
    "This approach will help determine the effectiveness of the Naïve Bayes assumption in classifying names by gender"
   ]
  },
  {
   "cell_type": "code",
   "execution_count": null,
   "metadata": {},
   "outputs": [],
   "source": [
    "# exercise 7.4.4\n",
    "import numpy as np\n",
    "from sklearn import model_selection\n",
    "from sklearn.naive_bayes import MultinomialNB\n",
    "from sklearn.preprocessing import OneHotEncoder\n",
    "\n",
    "np.random.seed(2450)\n",
    "y = y.squeeze()\n",
    "0\n",
    "# Naive Bayes classifier parameters\n",
    "alpha = 1.0  # pseudo-count, additive parameter (Laplace correction if 1.0 or Lidtstone smoothing otherwise)\n",
    "fit_prior = True  # uniform prior (change to True to estimate prior from data)\n",
    "\n",
    "# K-fold crossvalidation\n",
    "K = 10\n",
    "CV = model_selection.KFold(n_splits=K, shuffle=True)\n",
    "\n",
    "X = X[:, 0:4]  # using all 4 letters,\n",
    "#X = X[:, 0:2]  # using only 2 letters,\n",
    "# for using e.g. only third letter or first and last try X[:,[2]] and X[:, [0,3]]\n",
    "\n",
    "# We need to specify that the data is categorical.\n",
    "# MultinomialNB does not have this functionality, but we can achieve similar\n",
    "# results by doing a one-hot-encoding - the intermediate steps in in training\n",
    "# the classifier are off, but the final result is corrent.\n",
    "# If we didn't do the converstion MultinomialNB assumes that the numbers are\n",
    "# e.g. discrete counts of tokens. Without the encoding, the value 26 wouldn't\n",
    "# mean \"the token 'z'\", but it would mean 26 counts of some token,\n",
    "# resulting in 1 and 2 meaning a difference in one count of a given token as\n",
    "# opposed to the desired 'a' versus 'b'.\n",
    "X = OneHotEncoder().fit_transform(X=X)\n",
    "\n",
    "errors = np.zeros(K)\n",
    "k = 0\n",
    "for train_index, test_index in CV.split(X):\n",
    "    # print('Crossvalidation fold: {0}/{1}'.format(k+1,K))\n",
    "\n",
    "    # extract training and test set for current CV fold\n",
    "    X_train = X[train_index, :]\n",
    "    y_train = y[train_index]\n",
    "    X_test = X[test_index, :]\n",
    "    y_test = y[test_index]\n",
    "\n",
    "    nb_classifier = MultinomialNB(alpha=alpha, fit_prior=fit_prior)\n",
    "    nb_classifier.fit(X_train, y_train)\n",
    "    y_est_prob = nb_classifier.predict_proba(X_test)\n",
    "    y_est = np.argmax(y_est_prob, 1)\n",
    "\n",
    "    errors[k] = np.sum(y_est != y_test, dtype=float) / y_test.shape[0]\n",
    "    k += 1\n",
    "\n",
    "# Plot the classification error rate\n",
    "print(\"Error rate: {0}%\".format(100 * np.mean(errors)))\n",
    "\n",
    "print(\"Ran Exercise 7.2.4\")"
   ]
  },
  {
   "cell_type": "markdown",
   "metadata": {},
   "source": [
    "1. **Naïve Bayes Classifier Setup**:\n",
    "   - The **MultinomialNB** classifier is used, with `alpha = 1.0` for Laplace smoothing.\n",
    "   - A **uniform prior** (equal probability for male and female) is used for simplicity.\n",
    "   \n",
    "2. **Encoding Categorical Data**:\n",
    "   - **One-hot encoding** is applied to treat each letter as a unique categorical token. This ensures that the Naïve Bayes classifier interprets letters correctly rather than as numeric counts.\n",
    "\n",
    "3. **10-Fold Cross-Validation**:\n",
    "   - **10-fold cross-validation** is used to evaluate the classifier. For each fold:\n",
    "     - **Training and Testing**: The model is trained on the training set and evaluated on the test set.\n",
    "     - **Error Calculation**: The classification error is computed for each fold.\n",
    "   \n",
    "4. **Output**:\n",
    "   - The overall error rate, averaged across all folds, is displayed as a measure of the classifier’s performance."
   ]
  },
  {
   "attachments": {
    "image.png": {
     "image/png": "[encoded data removed]"
    }
   },
   "cell_type": "markdown",
   "metadata": {},
   "source": [
    "### Exercise 7.4.5: Adjusting Priors for Naïve Bayes Classification\n",
    "\n",
    "In this exercise, we modify the Naïve Bayes classifier to use empirical priors rather than a uniform prior:\n",
    "1. **Calculate Empirical Priors**:\n",
    "   - Compute the prior probability for each class (male, female) based on their proportions in the training data.\n",
    "![image.png](attachment:image.png)\n",
    "\n",
    "2. **Update Naïve Bayes Classifier**:\n",
    "   - Use the empirical priors in the classifier, rather than assuming equal probabilities for both classes.\n",
    "\n",
    "3. **Evaluation**:\n",
    "   - Run the classifier with the new priors and evaluate whether the classification accuracy improves.\n",
    "   - Analyze the results and consider how the dataset’s gender composition may influence performance with empirical priors.\n",
    "\n",
    "This will help us understand the impact of using data-driven priors in the Naïve Bayes model."
   ]
  },
  {
   "cell_type": "code",
   "execution_count": null,
   "metadata": {},
   "outputs": [],
   "source": [
    "import numpy as np\n",
    "from sklearn import model_selection\n",
    "from sklearn.naive_bayes import MultinomialNB\n",
    "from sklearn.preprocessing import OneHotEncoder\n",
    "\n",
    "np.random.seed(2450)\n",
    "y = y.squeeze()  # Ensure y is a 1-dimensional array\n",
    "\n",
    "# Naive Bayes classifier parameters\n",
    "alpha = 1.0  # Laplace smoothing parameter\n",
    "fit_prior = False  # Disable built-in prior estimation\n",
    "\n",
    "# K-fold cross-validation\n",
    "K = 10\n",
    "CV = model_selection.KFold(n_splits=K, shuffle=True)\n",
    "\n",
    "# One-hot encode the features to ensure correct categorical representation\n",
    "X_encoded = OneHotEncoder().fit_transform(X)\n",
    "\n",
    "# Initialize array to store error rates\n",
    "errors = np.zeros(K)\n",
    "k = 0\n",
    "\n",
    "# Cross-validation loop\n",
    "for train_index, test_index in CV.split(X_encoded):\n",
    "    # Split data for current fold\n",
    "    X_train = X_encoded[train_index, :]\n",
    "    y_train = y[train_index]\n",
    "    X_test = X_encoded[test_index, :]\n",
    "    y_test = y[test_index]\n",
    "\n",
    "    # Calculate empirical priors from the training set\n",
    "    female_prior = np.sum(y_train == 0) / len(y_train)  # P(Female)\n",
    "    male_prior = 1 - female_prior  # P(Male)\n",
    "    class_prior = [female_prior, male_prior]\n",
    "\n",
    "    # Create and train Naive Bayes classifier with empirical priors\n",
    "    nb_classifier = MultinomialNB(alpha=alpha, fit_prior=fit_prior, class_prior=class_prior)\n",
    "    nb_classifier.fit(X_train, y_train)\n",
    "\n",
    "    # Predict on the test set and calculate error\n",
    "    y_est = nb_classifier.predict(X_test)\n",
    "    errors[k] = np.mean(y_est != y_test)\n",
    "    k += 1\n",
    "\n",
    "# Output the average classification error across all folds\n",
    "print(\"Error rate with empirical priors: {:.2f}%\".format(100 * np.mean(errors)))"
   ]
  },
  {
   "cell_type": "markdown",
   "metadata": {},
   "source": [
    "-> no improvement"
   ]
  }
 ],
 "metadata": {
  "kernelspec": {
   "display_name": "introML",
   "language": "python",
   "name": "python3"
  },
  "language_info": {
   "codemirror_mode": {
    "name": "ipython",
    "version": 3
   },
   "file_extension": ".py",
   "mimetype": "text/x-python",
   "name": "python",
   "nbconvert_exporter": "python",
   "pygments_lexer": "ipython3",
   "version": "3.11.9"
  }
 },
 "nbformat": 4,
 "nbformat_minor": 2
}
