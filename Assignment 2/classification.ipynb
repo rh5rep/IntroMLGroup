{
 "cells": [
  {
   "cell_type": "markdown",
   "metadata": {},
   "source": [
    "## Classification, Part A\n",
    "\n",
    "1. **Problem Explanation**  \n",
    "   In this section, we aim to solve a classification problem using logistic regression, a baseline model, and another classification model. The problem chosen for this task is [specify if binary or multiclass classification]. We seek to understand which attributes are important for distinguishing between classes and compare the performance of logistic regression with other methods. "
   ]
  },
  {
   "cell_type": "code",
   "execution_count": null,
   "metadata": {},
   "outputs": [],
   "source": []
  },
  {
   "cell_type": "markdown",
   "metadata": {},
   "source": [
    "2. **Model Comparison**  \n",
    "   We will compare three models: logistic regression, method 2 [specify the additional method, e.g., decision trees, k-nearest neighbors], and a baseline model. The baseline model predicts all test data as belonging to the largest class in the training data. Logistic regression will include a regularization parameter, denoted by λ, while method 2 will have its own complexity-controlling parameter. "
   ]
  },
  {
   "cell_type": "code",
   "execution_count": null,
   "metadata": {},
   "outputs": [],
   "source": []
  },
  {
   "cell_type": "markdown",
   "metadata": {},
   "source": [
    "3. **Parameter Selection**  \n",
    "   We will perform parameter tuning using two-level cross-validation. This involves selecting the optimal λ for logistic regression and the complexity parameter for method 2. Both models will be compared to the baseline using classification error as the performance measure."
   ]
  },
  {
   "cell_type": "code",
   "execution_count": null,
   "metadata": {},
   "outputs": [],
   "source": []
  },
  {
   "cell_type": "markdown",
   "metadata": {},
   "source": [
    "___\n",
    "## Classification, Part B\n",
    "\n",
    "1. **Cross-Validation and Error Comparison**  \n",
    "   A two-level cross-validation will be implemented using K1 = K2 = 10 folds. This cross-validation method ensures that the outer test set is used consistently across all three models for comparison. The table will include the optimal parameters (e.g., λ for logistic regression and the complexity parameter for method 2) and the resulting test classification error rates. The table will resemble the format shown below:\n",
    "\n",
    "   | Fold | Logistic Regression λ | Method 2 Parameter | Logistic Regression Error | Method 2 Error | Baseline Error |\n",
    "   | ---- | ---------------------- | ------------------ | ------------------------ | -------------- | -------------- |\n",
    "   | 1    | [Optimal λ]            | [Optimal Param]    | [Error]                  | [Error]        | [Error]        |\n",
    "   | 2    | [Optimal λ]            | [Optimal Param]    | [Error]                  | [Error]        | [Error]        |\n",
    "   | ...  | ...                    | ...                | ...                      | ...            | ...            |\n"
   ]
  },
  {
   "cell_type": "code",
   "execution_count": null,
   "metadata": {},
   "outputs": [],
   "source": []
  },
  {
   "cell_type": "markdown",
   "metadata": {},
   "source": [
    "2. **Statistical Evaluation**  \n",
    "   We will statistically evaluate the performance of the three models using McNemar’s test, as outlined in section 11.3 of the lecture notes. Pairwise comparisons between logistic regression, method 2, and the baseline will be performed to test for significant differences. P-values and confidence intervals will be reported for each comparison."
   ]
  },
  {
   "cell_type": "code",
   "execution_count": null,
   "metadata": {},
   "outputs": [],
   "source": []
  },
  {
   "cell_type": "markdown",
   "metadata": {},
   "source": [
    "3. **Logistic Regression Interpretation**  \n",
    "   Using the optimal value of λ, we will train a logistic regression model. The prediction of the logistic regression model is computed as the probability of an observation belonging to a particular class based on the weighted combination of attributes. The relevance of the features in this classification task will be discussed in the context of the problem domain.\n"
   ]
  },
  {
   "cell_type": "code",
   "execution_count": null,
   "metadata": {},
   "outputs": [],
   "source": []
  },
  {
   "cell_type": "markdown",
   "metadata": {},
   "source": [
    "## Conclusion  \n",
    "   The results of the classification analysis, including the comparison between logistic regression, method 2, and the baseline, will inform our understanding of which model is best suited for this task. Additionally, the importance of specific attributes in predicting class labels will be assessed, with a discussion on how the results relate to the original classification problem."
   ]
  }
 ],
 "metadata": {
  "language_info": {
   "name": "python"
  }
 },
 "nbformat": 4,
 "nbformat_minor": 2
}
